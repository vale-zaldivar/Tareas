{
  "nbformat": 4,
  "nbformat_minor": 0,
  "metadata": {
    "colab": {
      "provenance": []
    },
    "kernelspec": {
      "name": "python3",
      "display_name": "Python 3"
    },
    "language_info": {
      "name": "python"
    }
  },
  "cells": [
    {
      "cell_type": "code",
      "execution_count": null,
      "metadata": {
        "id": "G5qU6QHB3KnU"
      },
      "outputs": [],
      "source": []
    },
    {
      "cell_type": "markdown",
      "source": [
        "# **Problema 1.**\n",
        "\n",
        "Hacer un programa que imprima los números del 1 al 100\n"
      ],
      "metadata": {
        "id": "epIXyfKM4-YE"
      }
    },
    {
      "cell_type": "code",
      "source": [
        "for i in range(1,101):\n",
        "  print(i)\n"
      ],
      "metadata": {
        "colab": {
          "base_uri": "https://localhost:8080/"
        },
        "id": "k8fnal-R6OOa",
        "outputId": "f11bfa82-e048-4a02-c16c-52eb03f7c8d9"
      },
      "execution_count": 4,
      "outputs": [
        {
          "output_type": "stream",
          "name": "stdout",
          "text": [
            "1\n",
            "2\n",
            "3\n",
            "4\n",
            "5\n",
            "6\n",
            "7\n",
            "8\n",
            "9\n",
            "10\n",
            "11\n",
            "12\n",
            "13\n",
            "14\n",
            "15\n",
            "16\n",
            "17\n",
            "18\n",
            "19\n",
            "20\n",
            "21\n",
            "22\n",
            "23\n",
            "24\n",
            "25\n",
            "26\n",
            "27\n",
            "28\n",
            "29\n",
            "30\n",
            "31\n",
            "32\n",
            "33\n",
            "34\n",
            "35\n",
            "36\n",
            "37\n",
            "38\n",
            "39\n",
            "40\n",
            "41\n",
            "42\n",
            "43\n",
            "44\n",
            "45\n",
            "46\n",
            "47\n",
            "48\n",
            "49\n",
            "50\n",
            "51\n",
            "52\n",
            "53\n",
            "54\n",
            "55\n",
            "56\n",
            "57\n",
            "58\n",
            "59\n",
            "60\n",
            "61\n",
            "62\n",
            "63\n",
            "64\n",
            "65\n",
            "66\n",
            "67\n",
            "68\n",
            "69\n",
            "70\n",
            "71\n",
            "72\n",
            "73\n",
            "74\n",
            "75\n",
            "76\n",
            "77\n",
            "78\n",
            "79\n",
            "80\n",
            "81\n",
            "82\n",
            "83\n",
            "84\n",
            "85\n",
            "86\n",
            "87\n",
            "88\n",
            "89\n",
            "90\n",
            "91\n",
            "92\n",
            "93\n",
            "94\n",
            "95\n",
            "96\n",
            "97\n",
            "98\n",
            "99\n",
            "100\n"
          ]
        }
      ]
    },
    {
      "cell_type": "markdown",
      "source": [
        "La verdad la función me la hizo la IA de la App. La primera vez puse (1,100) y llegaba hasta el 99, asi que después lo hice con uno más y me dio el resultado."
      ],
      "metadata": {
        "id": "ZNhl-jqY8k6w"
      }
    },
    {
      "cell_type": "markdown",
      "source": [
        "# **Problema 2.**\n",
        "\n",
        "Hacer un programa que imprima los números del 1 al 100 que sean divisibles entre 3 (con resto 0)"
      ],
      "metadata": {
        "id": "NzrAHcOy9JHW"
      }
    },
    {
      "cell_type": "code",
      "source": [
        "# Hacer un programa que imprima los números del 1 al 100\n",
        "for i in range(1,101):\n",
        "  if i % 3 == 0:\n",
        "    print(i)"
      ],
      "metadata": {
        "colab": {
          "base_uri": "https://localhost:8080/"
        },
        "id": "ZMTGkPDP9ZPL",
        "outputId": "748714c8-753f-4d41-822c-205aa722721f"
      },
      "execution_count": 5,
      "outputs": [
        {
          "output_type": "stream",
          "name": "stdout",
          "text": [
            "3\n",
            "6\n",
            "9\n",
            "12\n",
            "15\n",
            "18\n",
            "21\n",
            "24\n",
            "27\n",
            "30\n",
            "33\n",
            "36\n",
            "39\n",
            "42\n",
            "45\n",
            "48\n",
            "51\n",
            "54\n",
            "57\n",
            "60\n",
            "63\n",
            "66\n",
            "69\n",
            "72\n",
            "75\n",
            "78\n",
            "81\n",
            "84\n",
            "87\n",
            "90\n",
            "93\n",
            "96\n",
            "99\n"
          ]
        }
      ]
    },
    {
      "cell_type": "markdown",
      "source": [
        "Este la IA me leyó la mente, porque me dio perfecto la fórmula de cómo hacerlo. Mi problema es que no sé si podría hacerlo sola jajaajaj"
      ],
      "metadata": {
        "id": "72UTSq4F9zvH"
      }
    },
    {
      "cell_type": "markdown",
      "source": [
        "# **Problema 3.**\n",
        "\n",
        "Pseudocódigo, sumador y comparador de dos números"
      ],
      "metadata": {
        "id": "GFMUH-d_-G9a"
      }
    },
    {
      "cell_type": "code",
      "source": [],
      "metadata": {
        "id": "6zAdKirNIcq8"
      },
      "execution_count": null,
      "outputs": []
    },
    {
      "cell_type": "code",
      "source": [
        "# Leer 2 números\n",
        "a= 55\n",
        "b= 70\n",
        "\n",
        "# Sumar los 2 números\n",
        "suma = a + b\n",
        "print (suma)\n",
        "\n",
        "if (suma <100):\n",
        "  resultado = \"es menor a 100\"\n",
        "if (suma >100) and suma < 150:\n",
        "  resultado = \"es mayor a 100\"\n",
        "else:\n",
        "  resultado = \"es igual a 100\"\n",
        "print(resultado)\n",
        "\n"
      ],
      "metadata": {
        "colab": {
          "base_uri": "https://localhost:8080/"
        },
        "id": "WZh4t0sXBrZo",
        "outputId": "c3a29923-72da-4206-e9ca-5ead03616f2f"
      },
      "execution_count": 10,
      "outputs": [
        {
          "output_type": "stream",
          "name": "stdout",
          "text": [
            "125\n",
            "es mayor a 100\n"
          ]
        }
      ]
    },
    {
      "cell_type": "markdown",
      "source": [
        "Al principio traté de meter las intrucciones al IA de esta plataforma, pero se puso raro, asi que lo eliminé. Fui siguiendo los pasos que salen en las instrucciones de la tarea y ahí me resultó. Lo puse en inglés porque así lo vimos en clases.\n"
      ],
      "metadata": {
        "id": "m6sZbKG1H60a"
      }
    },
    {
      "cell_type": "markdown",
      "source": [
        "# **Problema 4.**\n",
        "Pseudocódigo\n"
      ],
      "metadata": {
        "id": "olH4_FJcHRuN"
      }
    },
    {
      "cell_type": "code",
      "source": [
        "#Edad y si le gusta programar\n",
        "edad= 22\n",
        "gusta_programar = True\n",
        "\n",
        "#Verificar si la edad es igual o mayor a 22 y si le gusta programar\n",
        "\n",
        "if (edad >= 18 and gusta_programar == True):\n",
        "  promedio = \"Es mayor de edad y le gusta programar\"\n",
        "  print(promedio)\n",
        "else:\n",
        "  promedio = \"No es mayor de edad y no le gusta programar\"\n",
        "  print(promedio)\n",
        "\n"
      ],
      "metadata": {
        "colab": {
          "base_uri": "https://localhost:8080/"
        },
        "id": "CLY5ayBZJSjI",
        "outputId": "ff5d7c73-aa68-4c2c-ffdd-7997f0149d90"
      },
      "execution_count": 20,
      "outputs": [
        {
          "output_type": "stream",
          "name": "stdout",
          "text": [
            "Es mayor de edad y le gusta programar\n"
          ]
        }
      ]
    },
    {
      "cell_type": "markdown",
      "source": [
        "En este lo que me costó fue la palabra \"and\" que yo usé \"y\" y no me lo leyó la primera vez."
      ],
      "metadata": {
        "id": "1FZCY0wtOOke"
      }
    }
  ]
}